{
  "nbformat": 4,
  "nbformat_minor": 0,
  "metadata": {
    "colab": {
      "provenance": []
    },
    "kernelspec": {
      "name": "python3",
      "display_name": "Python 3"
    }
  },
  "cells": [
    {
      "cell_type": "markdown",
      "metadata": {
        "id": "KJqp9AANOCtf"
      },
      "source": [
        "<img src=\"https://raw.githubusercontent.com/andre-marcos-perez/ebac-course-utils/main/media/logo/newebac_logo_black_half.png\" alt=\"ebac-logo\">\n",
        "\n",
        "---\n",
        "\n",
        "# **Módulo** | Computação em Nuvem III\n",
        "Caderno de **Exercícios**<br>\n",
        "Professor [André Perez](https://www.linkedin.com/in/andremarcosperez/)<br>\n",
        "Aluno [Marcos Pereira](https://www.linkedin.com/in/marcos-pereira-b84160300/)<br>\n",
        "\n",
        "---"
      ]
    },
    {
      "cell_type": "markdown",
      "metadata": {
        "id": "d9jDtUbDOE1-"
      },
      "source": [
        "# **Exercícios**\n"
      ]
    },
    {
      "cell_type": "markdown",
      "metadata": {
        "id": "SmoHgt-lwkpD"
      },
      "source": [
        "---"
      ]
    },
    {
      "cell_type": "markdown",
      "metadata": {
        "id": "ne7Ay0HKaGSv"
      },
      "source": [
        "## 1\\. Apache Spark"
      ]
    },
    {
      "cell_type": "markdown",
      "source": [
        "### **1.1. Instalação**"
      ],
      "metadata": {
        "id": "R9B7BVnrnxaY"
      }
    },
    {
      "cell_type": "markdown",
      "source": [
        "Spark é uma aplicação desenvolvida na linguagem de programação [Scala](https://www.scala-lang.org), que funciona em uma máquina virtual [Java](https://www.java.com/) (JVM). Por isso, é necessário fazer o *download* da aplicação e instalar o Java em todas as máquinas (nós) do *cluster*."
      ],
      "metadata": {
        "id": "3veQoQDQn63F"
      }
    },
    {
      "cell_type": "markdown",
      "source": [
        "> **Nota**: Mesmo sendo uma aplicação Scala, o Spark disponibiliza APIs de integração em diversas linguagens de programação. O pacote Python [PySpark](https://pypi.org/project/pyspark/) é a API para Python. Com ele, é possível interagir com o Spark como se fosse uma aplicação Python nativa. A API é similar ao pacote Pandas e sua documentação pode ser encontrada neste [link](https://spark.apache.org/docs/latest/api/python/)."
      ],
      "metadata": {
        "id": "AxO1L-A4nhZ0"
      }
    },
    {
      "cell_type": "markdown",
      "source": [
        " - Download do Spark, versão 3.3.2."
      ],
      "metadata": {
        "id": "Ev5vS5xBnOeA"
      }
    },
    {
      "cell_type": "code",
      "source": [
        "%%capture\n",
        "!wget -q https://archive.apache.org/dist/spark/spark-3.3.2/spark-3.3.2-bin-hadoop3.tgz\n",
        "!tar xf spark-3.3.2-bin-hadoop3.tgz && rm spark-3.3.2-bin-hadoop3.tgz"
      ],
      "metadata": {
        "id": "zt7s5sqvouDH"
      },
      "execution_count": 2,
      "outputs": []
    },
    {
      "cell_type": "code",
      "source": [
        "%%capture\n",
        "!apt-get remove openjdk*\n",
        "!apt-get update --fix-missing\n",
        "!apt-get install openjdk-8-jdk-headless -qq > /dev/null"
      ],
      "metadata": {
        "id": "YBNAdkcXnVfb"
      },
      "execution_count": 3,
      "outputs": []
    },
    {
      "cell_type": "code",
      "source": [
        "!pip install -q pyspark==3.3.2"
      ],
      "metadata": {
        "colab": {
          "base_uri": "https://localhost:8080/"
        },
        "id": "An_FaKplpJah",
        "outputId": "83233c2c-e0d6-4f08-c443-2f08ec276c97"
      },
      "execution_count": 4,
      "outputs": [
        {
          "output_type": "stream",
          "name": "stdout",
          "text": [
            "\u001b[2K     \u001b[90m━━━━━━━━━━━━━━━━━━━━━━━━━━━━━━━━━━━━━━━\u001b[0m \u001b[32m281.4/281.4 MB\u001b[0m \u001b[31m3.2 MB/s\u001b[0m eta \u001b[36m0:00:00\u001b[0m\n",
            "\u001b[?25h  Preparing metadata (setup.py) ... \u001b[?25l\u001b[?25hdone\n",
            "\u001b[2K   \u001b[90m━━━━━━━━━━━━━━━━━━━━━━━━━━━━━━━━━━━━━━━━\u001b[0m \u001b[32m199.7/199.7 kB\u001b[0m \u001b[31m10.6 MB/s\u001b[0m eta \u001b[36m0:00:00\u001b[0m\n",
            "\u001b[?25h  Building wheel for pyspark (setup.py) ... \u001b[?25l\u001b[?25hdone\n",
            "\u001b[31mERROR: pip's dependency resolver does not currently take into account all the packages that are installed. This behaviour is the source of the following dependency conflicts.\n",
            "dataproc-spark-connect 0.7.5 requires pyspark[connect]~=3.5.1, but you have pyspark 3.3.2 which is incompatible.\u001b[0m\u001b[31m\n",
            "\u001b[0m"
          ]
        }
      ]
    },
    {
      "cell_type": "markdown",
      "source": [
        "### **1.2. Configuração**"
      ],
      "metadata": {
        "id": "SlTlu89TqVK1"
      }
    },
    {
      "cell_type": "markdown",
      "source": [
        "Na etapa de configuração, é necessário configurar as máquinas (nós) do *cluster* para que tanto a aplicação do Spark quanto a instalação do Java possam ser encontrados pelo PySpark e, consequentemente, pelo Python. Para isso, basta preencher as variáveis de ambiente `JAVA_HOME` e `SPARK_HOME` com o seus respectivos caminhos de instalação."
      ],
      "metadata": {
        "id": "TRhbreHSqbKM"
      }
    },
    {
      "cell_type": "code",
      "source": [
        "import os\n",
        "\n",
        "os.environ[\"JAVA_HOME\"] = \"/usr/lib/jvm/java-8-openjdk-amd64\"\n",
        "os.environ[\"SPARK_HOME\"] = \"/content/spark-3.3.2-bin-hadoop3\""
      ],
      "metadata": {
        "id": "ELhfGImFqsMx"
      },
      "execution_count": 5,
      "outputs": []
    },
    {
      "cell_type": "markdown",
      "source": [
        "Por fim, para conectar o PySpark (e o Python) ao Spark e ao Java, pode-se utilizar o pacote Python [FindSpark](https://pypi.org/project/findspark/)."
      ],
      "metadata": {
        "id": "AYlYIQ8eq46h"
      }
    },
    {
      "cell_type": "code",
      "source": [
        "!pip install -q findspark==1.4.2"
      ],
      "metadata": {
        "id": "7igY77mkq9dA"
      },
      "execution_count": 6,
      "outputs": []
    },
    {
      "cell_type": "markdown",
      "source": [
        "O método `init()` injeta as variáveis de ambiente `JAVA_HOME` e `SPARK_HOME` no ambiente de execução Python, permitindo assim a correta conexão entre o pacote PySpark com aplicação Spark."
      ],
      "metadata": {
        "id": "_M9pV0WzrHSe"
      }
    },
    {
      "cell_type": "code",
      "source": [
        "import findspark\n",
        "\n",
        "findspark.init()"
      ],
      "metadata": {
        "id": "5BuBEWvzrPOI"
      },
      "execution_count": 7,
      "outputs": []
    },
    {
      "cell_type": "markdown",
      "metadata": {
        "id": "EvJTE2FpaGeU"
      },
      "source": [
        "## 2\\. Data Wrangling"
      ]
    },
    {
      "cell_type": "markdown",
      "source": [
        "### **2.1. Conexão**"
      ],
      "metadata": {
        "id": "0vj0HsjIrmSS"
      }
    },
    {
      "cell_type": "markdown",
      "source": [
        "Com o *cluster* devidamente configurado, vamos criar uma aplicação Spark. O objeto `SparkSession` do pacote PySpark (e seu atributo `builder`) auxiliam na criação da aplicação:\n",
        "\n",
        " - `master`: endereço (local ou remoto) do *cluster*;\n",
        " - `appName`: nome da aplicação;\n",
        " - `getOrCreate`: método que de fato cria os recursos e instância a aplicação."
      ],
      "metadata": {
        "id": "IF1-6pzurt4t"
      }
    },
    {
      "cell_type": "code",
      "source": [
        "from pyspark.sql import SparkSession\n",
        "\n",
        "spark = SparkSession.builder.master(\"local[*]\").appName(\"pyspark-notebook\").getOrCreate()"
      ],
      "metadata": {
        "id": "Ncb5Zd9ym0TY"
      },
      "execution_count": 8,
      "outputs": []
    },
    {
      "cell_type": "markdown",
      "source": [
        "### **2.2. Data**"
      ],
      "metadata": {
        "id": "gw9qU6sLipWv"
      }
    },
    {
      "cell_type": "markdown",
      "metadata": {
        "id": "ISYXZbomlb1x"
      },
      "source": [
        "A base de dados presente neste [link](https://www.kaggle.com/datasets/bank-of-england/a-millennium-of-macroeconomic-data) contem dados macroeconômicos sobre o Reino Unido desde o século 13."
      ]
    },
    {
      "cell_type": "markdown",
      "source": [
        "Com o objeto `SparkSession` devidamente instanciado, podemos começar a interagir com os dados utilizando os recursos do *cluster* através de uma estrutura de dados que já conhecemos: `DataFrames`:\n",
        "Faça o download dos dados utilizando a máquina virutal do Google Colab com o código abaixo."
      ],
      "metadata": {
        "id": "1hnomN0NmgFY"
      }
    },
    {
      "cell_type": "code",
      "source": [
        "!wget -q \"https://raw.githubusercontent.com/cluster-apps-on-docker/spark-standalone-cluster-on-docker/master/build/workspace/data/uk-macroeconomic-data.csv\" -O \"uk-macroeconomic-data.csv\""
      ],
      "metadata": {
        "id": "D7kgFvnoklGX"
      },
      "execution_count": 9,
      "outputs": []
    },
    {
      "cell_type": "code",
      "source": [
        "data = spark.read.csv(path=\"uk-macroeconomic-data.csv\", sep=\",\", header=True)"
      ],
      "metadata": {
        "id": "ChfUjHB2mgsC"
      },
      "execution_count": 10,
      "outputs": []
    },
    {
      "cell_type": "code",
      "source": [
        "data.show()"
      ],
      "metadata": {
        "colab": {
          "base_uri": "https://localhost:8080/"
        },
        "id": "Bg4m-tXvmmWO",
        "outputId": "6e23302a-7906-4dd5-9fa9-2db560d0f7c1"
      },
      "execution_count": 11,
      "outputs": [
        {
          "output_type": "stream",
          "name": "stdout",
          "text": [
            "+-----------+------------------------------------+-----------------------------------+-------------------------------------------------------------------------------------------+-----------------------------------------------------------------------------------------+------------------------------------------------------------------------------+----------------------------------------------------------------------------------------+-------------------------------------------------------------------------------------+-----------------------------------------------------------------------------------+--------------------+--------------------+--------------------------+-------------------------------------------------+--------------------+--------------------+---------------------------------------+-------------------------------+---------------------------------+------------------+--------------------+----------+-----------------+---------------------------+-------------------------------+----------+--------------------+---------------------+-------------------------------------------+-----------------------------+-------------+-------------+--------------+------------+--------------------+--------------------+------------------------+----------------------+------------------------------+------------+--------------------+------------------------------------------+------------------------------------------+--------------------+-----------------------------------+---------------------+--------------------+--------------------+----------------------+--------------------+--------------------+--------------------+-------------+--------------+-----------------------------+-------------------------------+-----------------------------------------------+-----------------------------+-------------+-------------+-------------+---------------------------------------+-----------------------------------------+----------------------------+------------------------------+-----------------------------------------+-------------------------------------------+---------------------+-----------------------+-----------------------+-----------------------------+-------------------------------+-------------+--------------------+----------------+--------------------+----------------------------------------------------------------------+------------------------------------------------------------------------+\n",
            "|Description|Real GDP of England at market prices|Real GDP of England at factor cost |Real UK GDP at market prices, geographically-consistent estimate based on post-1922 borders|Real UK GDP at factor cost, geographically-consistent estimate based on post-1922 borders|Index of real UK GDP at factor cost - based on changing political boundaries, |Composite estimate of English and (geographically-consistent) UK real GDP at factor cost|HP-filter of log of real composite estimate of English and UK real GDP at factor cost|Real UK gross disposable national income at market prices, constant border estimate|    Real consumption|     Real investment|Stockbuilding contribution|Real government consumption of goods and services|      Export volumes|      Import volumes|Nominal GDP of England at market prices|Nominal UK GDP at market prices|Nominal UK GDP at market prices.1|Population (GB+NI)|Population (England)|Employment|Unemployment rate|Average weekly hours worked|Capital Services, whole economy|TFP growth| Labour productivity|Labour productivity.1|Labour share, whole economy excluding rents|GDP deflator at market prices|Export prices|Import prices|Terms of Trade|$ Oil prices|   Earnings per head|Consumer price index|Consumer price inflation|Real consumption wages|Wholesale/producer price index|   Bank Rate|         Bank Rate.1|10 year/medium-term government bond yields|Consols / long-term government bond yields|      Mortgage rates|Corporate borrowing rate from banks|Corporate bond yields|        Share prices|   $/£ exchange rate|Real $/£ exchange rate|         Nominal ERI|            Real ERI|   House price index|      Credit |Secured credit|Bank of England Balance sheet|Bank of England Balance sheet.1|Coin in circulation outside the Bank of England|Notes and coin in circulation|Monetary base|           M1| Broad Money |Public sector Total Managed Expenditure|Public sector Total Managed Expenditure.1|Public Sector Total Receipts|Public Sector Total Receipts.1|Public Sector Net Lending(+)/Borrowing(-)|Public Sector Net Lending(+)/Borrowing(-).1|UK Public sector debt|UK Public sector debt.1|UK Public sector debt.2|Central Government Gross Debt|Central Government Gross Debt.1|Trade deficit|     Trade deficit.1|Current account |  Current account .1|Current account deficit including estimated non-monetary bullion flows|Current account deficit including estimated non-monetary bullion flows.1|\n",
            "+-----------+------------------------------------+-----------------------------------+-------------------------------------------------------------------------------------------+-----------------------------------------------------------------------------------------+------------------------------------------------------------------------------+----------------------------------------------------------------------------------------+-------------------------------------------------------------------------------------+-----------------------------------------------------------------------------------+--------------------+--------------------+--------------------------+-------------------------------------------------+--------------------+--------------------+---------------------------------------+-------------------------------+---------------------------------+------------------+--------------------+----------+-----------------+---------------------------+-------------------------------+----------+--------------------+---------------------+-------------------------------------------+-----------------------------+-------------+-------------+--------------+------------+--------------------+--------------------+------------------------+----------------------+------------------------------+------------+--------------------+------------------------------------------+------------------------------------------+--------------------+-----------------------------------+---------------------+--------------------+--------------------+----------------------+--------------------+--------------------+--------------------+-------------+--------------+-----------------------------+-------------------------------+-----------------------------------------------+-----------------------------+-------------+-------------+-------------+---------------------------------------+-----------------------------------------+----------------------------+------------------------------+-----------------------------------------+-------------------------------------------+---------------------+-----------------------+-----------------------+-----------------------------+-------------------------------+-------------+--------------------+----------------+--------------------+----------------------------------------------------------------------+------------------------------------------------------------------------+\n",
            "|      Units|                £mn, Chained Volu...|               £mn, Chained Volu...|                                                                       £mn, Chained Volu...|                                                                     £mn, Chained Volu...|                                                          GB before 1801, G...|                                                                                2013=100|                                                                 approx. % differe...|                                                               £mn, Chained Volu...|£mn, Chained Volu...|£mn, Chained Volu...|      pp contribution t...|                             £mn, Chained Volu...|£mn, Chained Volu...|£mn, Chained Volu...|                                    £mn|                            £mn|                              £mn|              000s|                000s|      000s|                %|                      hours|               £mn, 2013 prices|         %|Real GDP per head...| Real GDP per hour...|                       share of GDP excl...|                     2013=100|     2013=100|     2013=100|      2013=100|$ per barrel|Average weekly ea...|            2015=100|                       %|              1900=100|                      2010=100|% end period|%, calendar year ...|                      %, calendar year ...|                      %, calendar year ...|%, calendar year ...|               %, calendar year ...| %, calendar year ...|April 1962=100, Y...|Calendar year ave...|  Calendar year ave...|Calendar year ave...|Calendar year ave...|Calendar year ave...|Year end, £mn| Year end, £mn|             % of nominal GDP|               % of nominal GDP|                                  Year end, £mn|                Year end, £mn|Year end, £mn|Year end, £mn|Year end, £mn|                   Calendar year tot...|                     as a % of nominal...|        Calendar year tot...|          as a % of nominal...|                     Calendar year tot...|                       as a % of nominal...| Calendar Year end...|   as a % of nominal...|   as a % of nominal...|         Financial year en...|           Financial year en...|          £mn|as a % of nominal...|             £mn|as a % of nominal...|                                                                   £mn|                                                    as a % of nominal...|\n",
            "|       1209|                                null|                               null|                                                                                       null|                                                                                     null|                                                                          null|                                                                                    null|                                                                                 null|                                                                               null|                null|                null|                      null|                                             null|                null|                null|                                   null|                           null|                             null|              null|                3626|      null|             null|                       null|                           null|      null|                null|                 null|                                       null|                         null|         null|         null|          null|        null|               0.034|                0.08|                    null|                 51.79|                          null|        null|                null|                                      null|                                      null|                null|                               null|                 null|                null|                null|                  null|                null|                null|                null|         null|          null|                         null|                           null|                                           null|                         null|         null|         null|         null|                                   null|                                     null|                        null|                          null|                                     null|                                       null|                 null|                   null|                   null|                         null|                           null|         null|                null|            null|                null|                                                                  null|                                                                    null|\n",
            "|       1210|                                null|                               null|                                                                                       null|                                                                                     null|                                                                          null|                                                                                    null|                                                                                 null|                                                                               null|                null|                null|                      null|                                             null|                null|                null|                                   null|                           null|                             null|              null|                3656|      null|             null|                       null|                           null|      null|                null|                 null|                                       null|                         null|         null|         null|          null|        null|               0.030|                0.08|                    2.58|                 44.65|                          null|        null|                null|                                      null|                                      null|                null|                               null|                 null|                null|                null|                  null|                null|                null|                null|         null|          null|                         null|                           null|                                           null|                         null|         null|         null|         null|                                   null|                                     null|                        null|                          null|                                     null|                                       null|                 null|                   null|                   null|                         null|                           null|         null|                null|            null|                null|                                                                  null|                                                                    null|\n",
            "|       1211|                                null|                               null|                                                                                       null|                                                                                     null|                                                                          null|                                                                                    null|                                                                                 null|                                                                               null|                null|                null|                      null|                                             null|                null|                null|                                   null|                           null|                             null|              null|                3686|      null|             null|                       null|                           null|      null|                null|                 null|                                       null|                         null|         null|         null|          null|        null|               0.026|                0.09|                   12.22|                 34.86|                          null|        null|                null|                                      null|                                      null|                null|                               null|                 null|                null|                null|                  null|                null|                null|                null|         null|          null|                         null|                           null|                                           null|                         null|         null|         null|         null|                                   null|                                     null|                        null|                          null|                                     null|                                       null|                 null|                   null|                   null|                         null|                           null|         null|                null|            null|                null|                                                                  null|                                                                    null|\n",
            "|       1212|                                null|                               null|                                                                                       null|                                                                                     null|                                                                          null|                                                                                    null|                                                                                 null|                                                                               null|                null|                null|                      null|                                             null|                null|                null|                                   null|                           null|                             null|              null|                3717|      null|             null|                       null|                           null|      null|                null|                 null|                                       null|                         null|         null|         null|          null|        null|               0.033|                0.08|                  -12.32|                 49.35|                          null|        null|                null|                                      null|                                      null|                null|                               null|                 null|                null|                null|                  null|                null|                null|                null|         null|          null|                         null|                           null|                                           null|                         null|         null|         null|         null|                                   null|                                     null|                        null|                          null|                                     null|                                       null|                 null|                   null|                   null|                         null|                           null|         null|                null|            null|                null|                                                                  null|                                                                    null|\n",
            "|       1213|                                null|                               null|                                                                                       null|                                                                                     null|                                                                          null|                                                                                    null|                                                                                 null|                                                                               null|                null|                null|                      null|                                             null|                null|                null|                                   null|                           null|                             null|              null|                3747|      null|             null|                       null|                           null|      null|                null|                 null|                                       null|                         null|         null|         null|          null|        null|               0.037|                0.08|                   -3.37|                 57.28|                          null|        null|                null|                                      null|                                      null|                null|                               null|                 null|                null|                null|                  null|                null|                null|                null|         null|          null|                         null|                           null|                                           null|                         null|         null|         null|         null|                                   null|                                     null|                        null|                          null|                                     null|                                       null|                 null|                   null|                   null|                         null|                           null|         null|                null|            null|                null|                                                                  null|                                                                    null|\n",
            "|       1214|                                null|                               null|                                                                                       null|                                                                                     null|                                                                          null|                                                                                    null|                                                                                 null|                                                                               null|                null|                null|                      null|                                             null|                null|                null|                                   null|                           null|                             null|              null|                3778|      null|             null|                       null|                           null|      null|                null|                 null|                                       null|                         null|         null|         null|          null|        null|               0.041|                0.08|                   -3.37|                 66.49|                          null|        null|                null|                                      null|                                      null|                null|                               null|                 null|                null|                null|                  null|                null|                null|                null|         null|          null|                         null|                           null|                                           null|                         null|         null|         null|         null|                                   null|                                     null|                        null|                          null|                                     null|                                       null|                 null|                   null|                   null|                         null|                           null|         null|                null|            null|                null|                                                                  null|                                                                    null|\n",
            "|       1215|                                null|                               null|                                                                                       null|                                                                                     null|                                                                          null|                                                                                    null|                                                                                 null|                                                                               null|                null|                null|                      null|                                             null|                null|                null|                                   null|                           null|                             null|              null|                3810|      null|             null|                       null|                           null|      null|                null|                 null|                                       null|                         null|         null|         null|          null|        null|               0.038|                0.08|                    6.34|                 57.33|                          null|        null|                null|                                      null|                                      null|                null|                               null|                 null|                null|                null|                  null|                null|                null|                null|         null|          null|                         null|                           null|                                           null|                         null|         null|         null|         null|                                   null|                                     null|                        null|                          null|                                     null|                                       null|                 null|                   null|                   null|                         null|                           null|         null|                null|            null|                null|                                                                  null|                                                                    null|\n",
            "|       1216|                                null|                               null|                                                                                       null|                                                                                     null|                                                                          null|                                                                                    null|                                                                                 null|                                                                               null|                null|                null|                      null|                                             null|                null|                null|                                   null|                           null|                             null|              null|                3841|      null|             null|                       null|                           null|      null|                null|                 null|                                       null|                         null|         null|         null|          null|        null|               0.035|                0.09|                    6.34|                 49.44|                          null|        null|                null|                                      null|                                      null|                null|                               null|                 null|                null|                null|                  null|                null|                null|                null|         null|          null|                         null|                           null|                                           null|                         null|         null|         null|         null|                                   null|                                     null|                        null|                          null|                                     null|                                       null|                 null|                   null|                   null|                         null|                           null|         null|                null|            null|                null|                                                                  null|                                                                    null|\n",
            "|       1217|                                null|                               null|                                                                                       null|                                                                                     null|                                                                          null|                                                                                    null|                                                                                 null|                                                                               null|                null|                null|                      null|                                             null|                null|                null|                                   null|                           null|                             null|              null|                3873|      null|             null|                       null|                           null|      null|                null|                 null|                                       null|                         null|         null|         null|          null|        null|               0.034|                0.10|                   15.78|                 41.18|                          null|        null|                null|                                      null|                                      null|                null|                               null|                 null|                null|                null|                  null|                null|                null|                null|         null|          null|                         null|                           null|                                           null|                         null|         null|         null|         null|                                   null|                                     null|                        null|                          null|                                     null|                                       null|                 null|                   null|                   null|                         null|                           null|         null|                null|            null|                null|                                                                  null|                                                                    null|\n",
            "|       1218|                                null|                               null|                                                                                       null|                                                                                     null|                                                                          null|                                                                                    null|                                                                                 null|                                                                               null|                null|                null|                      null|                                             null|                null|                null|                                   null|                           null|                             null|              null|                3905|      null|             null|                       null|                           null|      null|                null|                 null|                                       null|                         null|         null|         null|          null|        null|               0.029|                0.12|                   16.62|                 30.69|                          null|        null|                null|                                      null|                                      null|                null|                               null|                 null|                null|                null|                  null|                null|                null|                null|         null|          null|                         null|                           null|                                           null|                         null|         null|         null|         null|                                   null|                                     null|                        null|                          null|                                     null|                                       null|                 null|                   null|                   null|                         null|                           null|         null|                null|            null|                null|                                                                  null|                                                                    null|\n",
            "|       1219|                                null|                               null|                                                                                       null|                                                                                     null|                                                                          null|                                                                                    null|                                                                                 null|                                                                               null|                null|                null|                      null|                                             null|                null|                null|                                   null|                           null|                             null|              null|                3937|      null|             null|                       null|                           null|      null|                null|                 null|                                       null|                         null|         null|         null|          null|        null|               0.036|                0.11|                   -3.13|                 39.33|                          null|        null|                null|                                      null|                                      null|                null|                               null|                 null|                null|                null|                  null|                null|                null|                null|         null|          null|                         null|                           null|                                           null|                         null|         null|         null|         null|                                   null|                                     null|                        null|                          null|                                     null|                                       null|                 null|                   null|                   null|                         null|                           null|         null|                null|            null|                null|                                                                  null|                                                                    null|\n",
            "|       1220|                                null|                               null|                                                                                       null|                                                                                     null|                                                                          null|                                                                                    null|                                                                                 null|                                                                               null|                null|                null|                      null|                                             null|                null|                null|                                   null|                           null|                             null|              null|                3970|      null|             null|                       null|                           null|      null|                null|                 null|                                       null|                         null|         null|         null|          null|        null|               0.029|                0.10|                  -12.67|                 36.28|                          null|        null|                null|                                      null|                                      null|                null|                               null|                 null|                null|                null|                  null|                null|                null|                null|         null|          null|                         null|                           null|                                           null|                         null|         null|         null|         null|                                   null|                                     null|                        null|                          null|                                     null|                                       null|                 null|                   null|                   null|                         null|                           null|         null|                null|            null|                null|                                                                  null|                                                                    null|\n",
            "|       1221|                                null|                               null|                                                                                       null|                                                                                     null|                                                                          null|                                                                                    null|                                                                                 null|                                                                               null|                null|                null|                      null|                                             null|                null|                null|                                   null|                           null|                             null|              null|                3978|      null|             null|                       null|                           null|      null|                null|                 null|                                       null|                         null|         null|         null|          null|        null|               0.030|                0.11|                   11.96|                 33.73|                          null|        null|                null|                                      null|                                      null|                null|                               null|                 null|                null|                null|                  null|                null|                null|                null|         null|          null|                         null|                           null|                                           null|                         null|         null|         null|         null|                                   null|                                     null|                        null|                          null|                                     null|                                       null|                 null|                   null|                   null|                         null|                           null|         null|                null|            null|                null|                                                                  null|                                                                    null|\n",
            "|       1222|                                null|                               null|                                                                                       null|                                                                                     null|                                                                          null|                                                                                    null|                                                                                 null|                                                                               null|                null|                null|                      null|                                             null|                null|                null|                                   null|                           null|                             null|              null|                3987|      null|             null|                       null|                           null|      null|                null|                 null|                                       null|                         null|         null|         null|          null|        null|               0.033|                0.09|                  -15.56|                 43.05|                          null|        null|                null|                                      null|                                      null|                null|                               null|                 null|                null|                null|                  null|                null|                null|                null|         null|          null|                         null|                           null|                                           null|                         null|         null|         null|         null|                                   null|                                     null|                        null|                          null|                                     null|                                       null|                 null|                   null|                   null|                         null|                           null|         null|                null|            null|                null|                                                                  null|                                                                    null|\n",
            "|       1223|                                null|                               null|                                                                                       null|                                                                                     null|                                                                          null|                                                                                    null|                                                                                 null|                                                                               null|                null|                null|                      null|                                             null|                null|                null|                                   null|                           null|                             null|              null|                3995|      null|             null|                       null|                           null|      null|                null|                 null|                                       null|                         null|         null|         null|          null|        null|               0.035|                0.08|                  -15.56|                 54.95|                          null|        null|                null|                                      null|                                      null|                null|                               null|                 null|                null|                null|                  null|                null|                null|                null|         null|          null|                         null|                           null|                                           null|                         null|         null|         null|         null|                                   null|                                     null|                        null|                          null|                                     null|                                       null|                 null|                   null|                   null|                         null|                           null|         null|                null|            null|                null|                                                                  null|                                                                    null|\n",
            "|       1224|                                null|                               null|                                                                                       null|                                                                                     null|                                                                          null|                                                                                    null|                                                                                 null|                                                                               null|                null|                null|                      null|                                             null|                null|                null|                                   null|                           null|                             null|              null|                4004|      null|             null|                       null|                           null|      null|                null|                 null|                                       null|                         null|         null|         null|          null|        null|               0.036|                0.09|                   10.33|                 50.33|                          null|        null|                null|                                      null|                                      null|                null|                               null|                 null|                null|                null|                  null|                null|                null|                null|         null|          null|                         null|                           null|                                           null|                         null|         null|         null|         null|                                   null|                                     null|                        null|                          null|                                     null|                                       null|                 null|                   null|                   null|                         null|                           null|         null|                null|            null|                null|                                                                  null|                                                                    null|\n",
            "|       1225|                                null|                               null|                                                                                       null|                                                                                     null|                                                                          null|                                                                                    null|                                                                                 null|                                                                               null|                null|                null|                      null|                                             null|                null|                null|                                   null|                           null|                             null|              null|                4012|      null|             null|                       null|                           null|      null|                null|                 null|                                       null|                         null|         null|         null|          null|        null|               0.032|                0.13|                   49.66|                 30.29|                          null|        null|                null|                                      null|                                      null|                null|                               null|                 null|                null|                null|                  null|                null|                null|                null|         null|          null|                         null|                           null|                                           null|                         null|         null|         null|         null|                                   null|                                     null|                        null|                          null|                                     null|                                       null|                 null|                   null|                   null|                         null|                           null|         null|                null|            null|                null|                                                                  null|                                                                    null|\n",
            "|       1226|                                null|                               null|                                                                                       null|                                                                                     null|                                                                          null|                                                                                    null|                                                                                 null|                                                                               null|                null|                null|                      null|                                             null|                null|                null|                                   null|                           null|                             null|              null|                4021|      null|             null|                       null|                           null|      null|                null|                 null|                                       null|                         null|         null|         null|          null|        null|               0.032|                0.12|                   -9.56|                 33.48|                          null|        null|                null|                                      null|                                      null|                null|                               null|                 null|                null|                null|                  null|                null|                null|                null|         null|          null|                         null|                           null|                                           null|                         null|         null|         null|         null|                                   null|                                     null|                        null|                          null|                                     null|                                       null|                 null|                   null|                   null|                         null|                           null|         null|                null|            null|                null|                                                                  null|                                                                    null|\n",
            "|       1227|                                null|                               null|                                                                                       null|                                                                                     null|                                                                          null|                                                                                    null|                                                                                 null|                                                                               null|                null|                null|                      null|                                             null|                null|                null|                                   null|                           null|                             null|              null|                4029|      null|             null|                       null|                           null|      null|                null|                 null|                                       null|                         null|         null|         null|          null|        null|               0.029|                0.12|                    0.01|                 29.86|                          null|        null|                null|                                      null|                                      null|                null|                               null|                 null|                null|                null|                  null|                null|                null|                null|         null|          null|                         null|                           null|                                           null|                         null|         null|         null|         null|                                   null|                                     null|                        null|                          null|                                     null|                                       null|                 null|                   null|                   null|                         null|                           null|         null|                null|            null|                null|                                                                  null|                                                                    null|\n",
            "+-----------+------------------------------------+-----------------------------------+-------------------------------------------------------------------------------------------+-----------------------------------------------------------------------------------------+------------------------------------------------------------------------------+----------------------------------------------------------------------------------------+-------------------------------------------------------------------------------------+-----------------------------------------------------------------------------------+--------------------+--------------------+--------------------------+-------------------------------------------------+--------------------+--------------------+---------------------------------------+-------------------------------+---------------------------------+------------------+--------------------+----------+-----------------+---------------------------+-------------------------------+----------+--------------------+---------------------+-------------------------------------------+-----------------------------+-------------+-------------+--------------+------------+--------------------+--------------------+------------------------+----------------------+------------------------------+------------+--------------------+------------------------------------------+------------------------------------------+--------------------+-----------------------------------+---------------------+--------------------+--------------------+----------------------+--------------------+--------------------+--------------------+-------------+--------------+-----------------------------+-------------------------------+-----------------------------------------------+-----------------------------+-------------+-------------+-------------+---------------------------------------+-----------------------------------------+----------------------------+------------------------------+-----------------------------------------+-------------------------------------------+---------------------+-----------------------+-----------------------+-----------------------------+-------------------------------+-------------+--------------------+----------------+--------------------+----------------------------------------------------------------------+------------------------------------------------------------------------+\n",
            "only showing top 20 rows\n",
            "\n"
          ]
        }
      ]
    },
    {
      "cell_type": "code",
      "source": [
        "data.printSchema()"
      ],
      "metadata": {
        "colab": {
          "base_uri": "https://localhost:8080/"
        },
        "id": "ExbWfYjampjP",
        "outputId": "c5bd2e56-96da-48a8-a8d6-139e90032f6f"
      },
      "execution_count": 12,
      "outputs": [
        {
          "output_type": "stream",
          "name": "stdout",
          "text": [
            "root\n",
            " |-- Description: string (nullable = true)\n",
            " |-- Real GDP of England at market prices: string (nullable = true)\n",
            " |-- Real GDP of England at factor cost : string (nullable = true)\n",
            " |-- Real UK GDP at market prices, geographically-consistent estimate based on post-1922 borders: string (nullable = true)\n",
            " |-- Real UK GDP at factor cost, geographically-consistent estimate based on post-1922 borders: string (nullable = true)\n",
            " |-- Index of real UK GDP at factor cost - based on changing political boundaries, : string (nullable = true)\n",
            " |-- Composite estimate of English and (geographically-consistent) UK real GDP at factor cost: string (nullable = true)\n",
            " |-- HP-filter of log of real composite estimate of English and UK real GDP at factor cost: string (nullable = true)\n",
            " |-- Real UK gross disposable national income at market prices, constant border estimate: string (nullable = true)\n",
            " |-- Real consumption: string (nullable = true)\n",
            " |-- Real investment: string (nullable = true)\n",
            " |-- Stockbuilding contribution: string (nullable = true)\n",
            " |-- Real government consumption of goods and services: string (nullable = true)\n",
            " |-- Export volumes: string (nullable = true)\n",
            " |-- Import volumes: string (nullable = true)\n",
            " |-- Nominal GDP of England at market prices: string (nullable = true)\n",
            " |-- Nominal UK GDP at market prices: string (nullable = true)\n",
            " |-- Nominal UK GDP at market prices.1: string (nullable = true)\n",
            " |-- Population (GB+NI): string (nullable = true)\n",
            " |-- Population (England): string (nullable = true)\n",
            " |-- Employment: string (nullable = true)\n",
            " |-- Unemployment rate: string (nullable = true)\n",
            " |-- Average weekly hours worked: string (nullable = true)\n",
            " |-- Capital Services, whole economy: string (nullable = true)\n",
            " |-- TFP growth: string (nullable = true)\n",
            " |-- Labour productivity: string (nullable = true)\n",
            " |-- Labour productivity.1: string (nullable = true)\n",
            " |-- Labour share, whole economy excluding rents: string (nullable = true)\n",
            " |-- GDP deflator at market prices: string (nullable = true)\n",
            " |-- Export prices: string (nullable = true)\n",
            " |-- Import prices: string (nullable = true)\n",
            " |-- Terms of Trade: string (nullable = true)\n",
            " |-- $ Oil prices: string (nullable = true)\n",
            " |-- Earnings per head: string (nullable = true)\n",
            " |-- Consumer price index: string (nullable = true)\n",
            " |-- Consumer price inflation: string (nullable = true)\n",
            " |-- Real consumption wages: string (nullable = true)\n",
            " |-- Wholesale/producer price index: string (nullable = true)\n",
            " |-- Bank Rate: string (nullable = true)\n",
            " |-- Bank Rate.1: string (nullable = true)\n",
            " |-- 10 year/medium-term government bond yields: string (nullable = true)\n",
            " |-- Consols / long-term government bond yields: string (nullable = true)\n",
            " |-- Mortgage rates: string (nullable = true)\n",
            " |-- Corporate borrowing rate from banks: string (nullable = true)\n",
            " |-- Corporate bond yields: string (nullable = true)\n",
            " |-- Share prices: string (nullable = true)\n",
            " |-- $/£ exchange rate: string (nullable = true)\n",
            " |-- Real $/£ exchange rate: string (nullable = true)\n",
            " |-- Nominal ERI: string (nullable = true)\n",
            " |-- Real ERI: string (nullable = true)\n",
            " |-- House price index: string (nullable = true)\n",
            " |-- Credit : string (nullable = true)\n",
            " |-- Secured credit: string (nullable = true)\n",
            " |-- Bank of England Balance sheet: string (nullable = true)\n",
            " |-- Bank of England Balance sheet.1: string (nullable = true)\n",
            " |-- Coin in circulation outside the Bank of England: string (nullable = true)\n",
            " |-- Notes and coin in circulation: string (nullable = true)\n",
            " |-- Monetary base: string (nullable = true)\n",
            " |-- M1: string (nullable = true)\n",
            " |-- Broad Money : string (nullable = true)\n",
            " |-- Public sector Total Managed Expenditure: string (nullable = true)\n",
            " |-- Public sector Total Managed Expenditure.1: string (nullable = true)\n",
            " |-- Public Sector Total Receipts: string (nullable = true)\n",
            " |-- Public Sector Total Receipts.1: string (nullable = true)\n",
            " |-- Public Sector Net Lending(+)/Borrowing(-): string (nullable = true)\n",
            " |-- Public Sector Net Lending(+)/Borrowing(-).1: string (nullable = true)\n",
            " |-- UK Public sector debt: string (nullable = true)\n",
            " |-- UK Public sector debt.1: string (nullable = true)\n",
            " |-- UK Public sector debt.2: string (nullable = true)\n",
            " |-- Central Government Gross Debt: string (nullable = true)\n",
            " |-- Central Government Gross Debt.1: string (nullable = true)\n",
            " |-- Trade deficit: string (nullable = true)\n",
            " |-- Trade deficit.1: string (nullable = true)\n",
            " |-- Current account : string (nullable = true)\n",
            " |-- Current account .1: string (nullable = true)\n",
            " |-- Current account deficit including estimated non-monetary bullion flows: string (nullable = true)\n",
            " |-- Current account deficit including estimated non-monetary bullion flows.1: string (nullable = true)\n",
            "\n"
          ]
        }
      ]
    },
    {
      "cell_type": "markdown",
      "source": [
        "### **2.3. Wrangling**"
      ],
      "metadata": {
        "id": "b-I1dUa0iyE1"
      }
    },
    {
      "cell_type": "markdown",
      "source": [
        "Vamos utilizar a API Python do Spark, o pacote PySpark, para limpar os dados, processar os dados para que a base de dados final apresente os valores da taxa de desemprego (`Unemployment rate`) e população (`Population (GB+NI)`) estejam ordenados por ano decrescente:"
      ],
      "metadata": {
        "id": "kc_F7R62tO6Y"
      }
    },
    {
      "cell_type": "markdown",
      "source": [
        "> **Nota**: Atente-se sempre a natureza distribuída das operações."
      ],
      "metadata": {
        "id": "CIaI-6u6ttJJ"
      }
    },
    {
      "cell_type": "markdown",
      "source": [
        "```csv\n",
        "year,population,unemployment_rate\n",
        "...,...,...\n",
        "```"
      ],
      "metadata": {
        "id": "mr-NTxnalqIm"
      }
    },
    {
      "cell_type": "code",
      "source": [
        "data.count()"
      ],
      "metadata": {
        "colab": {
          "base_uri": "https://localhost:8080/"
        },
        "id": "Q6IxbMvJt0tI",
        "outputId": "74aa0a5e-5799-4abe-ee2f-904cec97dae0"
      },
      "execution_count": 13,
      "outputs": [
        {
          "output_type": "execute_result",
          "data": {
            "text/plain": [
              "841"
            ]
          },
          "metadata": {},
          "execution_count": 13
        }
      ]
    },
    {
      "cell_type": "code",
      "source": [
        "data.columns"
      ],
      "metadata": {
        "colab": {
          "base_uri": "https://localhost:8080/"
        },
        "id": "AudkrNEnt454",
        "outputId": "8b7ca309-29eb-4e75-f85c-1748bb2f27ce"
      },
      "execution_count": 14,
      "outputs": [
        {
          "output_type": "execute_result",
          "data": {
            "text/plain": [
              "['Description',\n",
              " 'Real GDP of England at market prices',\n",
              " 'Real GDP of England at factor cost ',\n",
              " 'Real UK GDP at market prices, geographically-consistent estimate based on post-1922 borders',\n",
              " 'Real UK GDP at factor cost, geographically-consistent estimate based on post-1922 borders',\n",
              " 'Index of real UK GDP at factor cost - based on changing political boundaries, ',\n",
              " 'Composite estimate of English and (geographically-consistent) UK real GDP at factor cost',\n",
              " 'HP-filter of log of real composite estimate of English and UK real GDP at factor cost',\n",
              " 'Real UK gross disposable national income at market prices, constant border estimate',\n",
              " 'Real consumption',\n",
              " 'Real investment',\n",
              " 'Stockbuilding contribution',\n",
              " 'Real government consumption of goods and services',\n",
              " 'Export volumes',\n",
              " 'Import volumes',\n",
              " 'Nominal GDP of England at market prices',\n",
              " 'Nominal UK GDP at market prices',\n",
              " 'Nominal UK GDP at market prices.1',\n",
              " 'Population (GB+NI)',\n",
              " 'Population (England)',\n",
              " 'Employment',\n",
              " 'Unemployment rate',\n",
              " 'Average weekly hours worked',\n",
              " 'Capital Services, whole economy',\n",
              " 'TFP growth',\n",
              " 'Labour productivity',\n",
              " 'Labour productivity.1',\n",
              " 'Labour share, whole economy excluding rents',\n",
              " 'GDP deflator at market prices',\n",
              " 'Export prices',\n",
              " 'Import prices',\n",
              " 'Terms of Trade',\n",
              " '$ Oil prices',\n",
              " 'Earnings per head',\n",
              " 'Consumer price index',\n",
              " 'Consumer price inflation',\n",
              " 'Real consumption wages',\n",
              " 'Wholesale/producer price index',\n",
              " 'Bank Rate',\n",
              " 'Bank Rate.1',\n",
              " '10 year/medium-term government bond yields',\n",
              " 'Consols / long-term government bond yields',\n",
              " 'Mortgage rates',\n",
              " 'Corporate borrowing rate from banks',\n",
              " 'Corporate bond yields',\n",
              " 'Share prices',\n",
              " '$/£ exchange rate',\n",
              " 'Real $/£ exchange rate',\n",
              " 'Nominal ERI',\n",
              " 'Real ERI',\n",
              " 'House price index',\n",
              " 'Credit ',\n",
              " 'Secured credit',\n",
              " 'Bank of England Balance sheet',\n",
              " 'Bank of England Balance sheet.1',\n",
              " 'Coin in circulation outside the Bank of England',\n",
              " 'Notes and coin in circulation',\n",
              " 'Monetary base',\n",
              " 'M1',\n",
              " 'Broad Money ',\n",
              " 'Public sector Total Managed Expenditure',\n",
              " 'Public sector Total Managed Expenditure.1',\n",
              " 'Public Sector Total Receipts',\n",
              " 'Public Sector Total Receipts.1',\n",
              " 'Public Sector Net Lending(+)/Borrowing(-)',\n",
              " 'Public Sector Net Lending(+)/Borrowing(-).1',\n",
              " 'UK Public sector debt',\n",
              " 'UK Public sector debt.1',\n",
              " 'UK Public sector debt.2',\n",
              " 'Central Government Gross Debt',\n",
              " 'Central Government Gross Debt.1',\n",
              " 'Trade deficit',\n",
              " 'Trade deficit.1',\n",
              " 'Current account ',\n",
              " 'Current account .1',\n",
              " 'Current account deficit including estimated non-monetary bullion flows',\n",
              " 'Current account deficit including estimated non-monetary bullion flows.1']"
            ]
          },
          "metadata": {},
          "execution_count": 14
        }
      ]
    },
    {
      "cell_type": "code",
      "source": [
        "len(data.columns)"
      ],
      "metadata": {
        "colab": {
          "base_uri": "https://localhost:8080/"
        },
        "id": "ijr2B9KCt7fQ",
        "outputId": "eeca409e-abdc-4005-f6fb-e132711e4ab5"
      },
      "execution_count": 15,
      "outputs": [
        {
          "output_type": "execute_result",
          "data": {
            "text/plain": [
              "77"
            ]
          },
          "metadata": {},
          "execution_count": 15
        }
      ]
    },
    {
      "cell_type": "markdown",
      "source": [
        "Com método `select` seleciona colunas do `DataFrame`. Já o método `withColumnRenamed` renomeia colunas."
      ],
      "metadata": {
        "id": "4ioowoeOuLVJ"
      }
    },
    {
      "cell_type": "code",
      "source": [
        "data = data.select([\"Description\", \"Population (GB+NI)\", \"Unemployment rate\"])"
      ],
      "metadata": {
        "id": "Pka7FBICuQQ-"
      },
      "execution_count": 16,
      "outputs": []
    },
    {
      "cell_type": "code",
      "source": [
        "data = data.\\\n",
        "  withColumnRenamed(\"Description\", 'year').\\\n",
        "  withColumnRenamed(\"Population (GB+NI)\", \"population\").\\\n",
        "  withColumnRenamed(\"Unemployment rate\", \"unemployment_rate\")"
      ],
      "metadata": {
        "id": "7locfMcGuWT0"
      },
      "execution_count": 17,
      "outputs": []
    },
    {
      "cell_type": "code",
      "source": [
        "data.show(n=10)"
      ],
      "metadata": {
        "colab": {
          "base_uri": "https://localhost:8080/"
        },
        "id": "thstFMtbuaHM",
        "outputId": "bb546d65-437e-4ae1-9ac5-8a0a9ad9035d"
      },
      "execution_count": 18,
      "outputs": [
        {
          "output_type": "stream",
          "name": "stdout",
          "text": [
            "+-----+----------+-----------------+\n",
            "| year|population|unemployment_rate|\n",
            "+-----+----------+-----------------+\n",
            "|Units|      000s|                %|\n",
            "| 1209|      null|             null|\n",
            "| 1210|      null|             null|\n",
            "| 1211|      null|             null|\n",
            "| 1212|      null|             null|\n",
            "| 1213|      null|             null|\n",
            "| 1214|      null|             null|\n",
            "| 1215|      null|             null|\n",
            "| 1216|      null|             null|\n",
            "| 1217|      null|             null|\n",
            "+-----+----------+-----------------+\n",
            "only showing top 10 rows\n",
            "\n"
          ]
        }
      ]
    },
    {
      "cell_type": "markdown",
      "source": [
        "Com método `filter` seleciona linhas do `DataFrame` baseado no conteúdo de uma coluna."
      ],
      "metadata": {
        "id": "BkHmDioWujTo"
      }
    },
    {
      "cell_type": "code",
      "source": [
        "data_description = data.filter(data['year'] == 'Units')"
      ],
      "metadata": {
        "id": "O6PWrDSHuqaq"
      },
      "execution_count": 19,
      "outputs": []
    },
    {
      "cell_type": "code",
      "source": [
        "data_description.show(n=10)"
      ],
      "metadata": {
        "colab": {
          "base_uri": "https://localhost:8080/"
        },
        "id": "Hi5TKsSfurcG",
        "outputId": "203ab4ef-6688-4280-8b21-454c201bda98"
      },
      "execution_count": 20,
      "outputs": [
        {
          "output_type": "stream",
          "name": "stdout",
          "text": [
            "+-----+----------+-----------------+\n",
            "| year|population|unemployment_rate|\n",
            "+-----+----------+-----------------+\n",
            "|Units|      000s|                %|\n",
            "+-----+----------+-----------------+\n",
            "\n"
          ]
        }
      ]
    },
    {
      "cell_type": "code",
      "source": [
        "(data.count(), len(data.columns))"
      ],
      "metadata": {
        "colab": {
          "base_uri": "https://localhost:8080/"
        },
        "id": "Z-pylZ_lvLz-",
        "outputId": "a32eca09-4368-4768-cf0a-040422ecf2ca"
      },
      "execution_count": 21,
      "outputs": [
        {
          "output_type": "execute_result",
          "data": {
            "text/plain": [
              "(841, 3)"
            ]
          },
          "metadata": {},
          "execution_count": 21
        }
      ]
    },
    {
      "cell_type": "code",
      "source": [
        "(data_description.count(), len(data_description.columns))"
      ],
      "metadata": {
        "colab": {
          "base_uri": "https://localhost:8080/"
        },
        "id": "a8_NlxruvM4H",
        "outputId": "688a468d-28c0-48d4-b848-3a82a8d0fed0"
      },
      "execution_count": 22,
      "outputs": [
        {
          "output_type": "execute_result",
          "data": {
            "text/plain": [
              "(1, 3)"
            ]
          },
          "metadata": {},
          "execution_count": 22
        }
      ]
    },
    {
      "cell_type": "markdown",
      "source": [
        "Com método `join` faz a junção distribuída de dois `DataFrames`. Já o método `broadcast` \"marca\" um `DataFrame` como \"pequeno\" e força o Spark a trafega-lo pela rede."
      ],
      "metadata": {
        "id": "H6w45Wcbu54V"
      }
    },
    {
      "cell_type": "code",
      "source": [
        "from pyspark.sql.functions import broadcast"
      ],
      "metadata": {
        "id": "aUNPRjvbu9aX"
      },
      "execution_count": 23,
      "outputs": []
    },
    {
      "cell_type": "code",
      "source": [
        "data = data.join(other=broadcast(data_description), on=['year'], how='left_anti')"
      ],
      "metadata": {
        "id": "c9ejCj6dvDBp"
      },
      "execution_count": 24,
      "outputs": []
    },
    {
      "cell_type": "code",
      "source": [
        "data.show(n=10)"
      ],
      "metadata": {
        "colab": {
          "base_uri": "https://localhost:8080/"
        },
        "id": "XS0qPlUsvFlQ",
        "outputId": "7285de2c-1289-4bc9-b4d4-9b880b01f2eb"
      },
      "execution_count": 25,
      "outputs": [
        {
          "output_type": "stream",
          "name": "stdout",
          "text": [
            "+----+----------+-----------------+\n",
            "|year|population|unemployment_rate|\n",
            "+----+----------+-----------------+\n",
            "|1209|      null|             null|\n",
            "|1210|      null|             null|\n",
            "|1211|      null|             null|\n",
            "|1212|      null|             null|\n",
            "|1213|      null|             null|\n",
            "|1214|      null|             null|\n",
            "|1215|      null|             null|\n",
            "|1216|      null|             null|\n",
            "|1217|      null|             null|\n",
            "|1218|      null|             null|\n",
            "+----+----------+-----------------+\n",
            "only showing top 10 rows\n",
            "\n"
          ]
        }
      ]
    },
    {
      "cell_type": "markdown",
      "source": [
        "Com método `dropna` remove todas as linhas que apresentarem ao menos um valor nulo."
      ],
      "metadata": {
        "id": "GhmysBT2vaAc"
      }
    },
    {
      "cell_type": "code",
      "source": [
        "data = data.dropna()"
      ],
      "metadata": {
        "id": "0YrCzNcGvdCq"
      },
      "execution_count": 26,
      "outputs": []
    },
    {
      "cell_type": "code",
      "source": [
        "data.show(n=10)"
      ],
      "metadata": {
        "colab": {
          "base_uri": "https://localhost:8080/"
        },
        "id": "YHfTOvjrvhE-",
        "outputId": "2c3e826a-9b13-4689-a832-be44e2e0a2eb"
      },
      "execution_count": 27,
      "outputs": [
        {
          "output_type": "stream",
          "name": "stdout",
          "text": [
            "+----+----------+-----------------+\n",
            "|year|population|unemployment_rate|\n",
            "+----+----------+-----------------+\n",
            "|1855|     23241|             3.73|\n",
            "|1856|     23466|             3.52|\n",
            "|1857|     23689|             3.95|\n",
            "|1858|     23914|             5.23|\n",
            "|1859|     24138|             3.27|\n",
            "|1860|     24360|             2.94|\n",
            "|1861|     24585|             3.72|\n",
            "|1862|     24862|             4.68|\n",
            "|1863|     25142|             4.15|\n",
            "|1864|     25425|             2.99|\n",
            "+----+----------+-----------------+\n",
            "only showing top 10 rows\n",
            "\n"
          ]
        }
      ]
    },
    {
      "cell_type": "markdown",
      "source": [
        "Com método `withColumn` ajuda a criar novas colunas."
      ],
      "metadata": {
        "id": "6qbRxPi8vpWy"
      }
    },
    {
      "cell_type": "code",
      "source": [
        "data = data.withColumn('century', 1 + (data['year']/100).cast('int'))"
      ],
      "metadata": {
        "id": "oczanoDSv7Kp"
      },
      "execution_count": 28,
      "outputs": []
    },
    {
      "cell_type": "code",
      "source": [
        "data.select(['century', 'year']).groupBy('century').agg({'year': 'count'}).show()"
      ],
      "metadata": {
        "colab": {
          "base_uri": "https://localhost:8080/"
        },
        "id": "my10lvegv8gv",
        "outputId": "6da3cebe-0dda-40a4-ddb1-3a18b0a6cd62"
      },
      "execution_count": 29,
      "outputs": [
        {
          "output_type": "stream",
          "name": "stdout",
          "text": [
            "+-------+-----------+\n",
            "|century|count(year)|\n",
            "+-------+-----------+\n",
            "|     20|        100|\n",
            "|     19|         45|\n",
            "|     21|         17|\n",
            "+-------+-----------+\n",
            "\n"
          ]
        }
      ]
    },
    {
      "cell_type": "markdown",
      "source": [
        "Com método `collect` é uma ação que coleta os resultados dos nós e retorna para o Python."
      ],
      "metadata": {
        "id": "HDq80S_bwHW1"
      }
    },
    {
      "cell_type": "code",
      "source": [
        "timing = data.select(['century', 'year']).groupBy('century').agg({'year': 'count'}).collect()"
      ],
      "metadata": {
        "id": "RcuQyhMwwKW1"
      },
      "execution_count": 30,
      "outputs": []
    },
    {
      "cell_type": "code",
      "source": [
        "timing"
      ],
      "metadata": {
        "colab": {
          "base_uri": "https://localhost:8080/"
        },
        "id": "sB1BJ4wOwOkk",
        "outputId": "2d3055a7-539d-418e-9111-f504f3f2228f"
      },
      "execution_count": 31,
      "outputs": [
        {
          "output_type": "execute_result",
          "data": {
            "text/plain": [
              "[Row(century=20, count(year)=100),\n",
              " Row(century=19, count(year)=45),\n",
              " Row(century=21, count(year)=17)]"
            ]
          },
          "metadata": {},
          "execution_count": 31
        }
      ]
    },
    {
      "cell_type": "code",
      "source": [
        "timing[0].asDict()"
      ],
      "metadata": {
        "colab": {
          "base_uri": "https://localhost:8080/"
        },
        "id": "KWmsOEkBwRkA",
        "outputId": "a86b19c1-ca4c-4201-a607-9d5b6ef97a01"
      },
      "execution_count": 32,
      "outputs": [
        {
          "output_type": "execute_result",
          "data": {
            "text/plain": [
              "{'century': 20, 'count(year)': 100}"
            ]
          },
          "metadata": {},
          "execution_count": 32
        }
      ]
    },
    {
      "cell_type": "markdown",
      "source": [
        "Com método `write.csv` persiste o `DataFrame` em formato `csv`. Já o método `repartition` controla o número de partições da escrita."
      ],
      "metadata": {
        "id": "LGeHZ-ngwbf_"
      }
    },
    {
      "cell_type": "code",
      "source": [
        "data.repartition('century').write.csv(path=\"uk-macroeconomic-data-clean\", sep=\",\", header=True, mode=\"overwrite\")"
      ],
      "metadata": {
        "id": "qDGh0GagwiJN"
      },
      "execution_count": 33,
      "outputs": []
    }
  ]
}